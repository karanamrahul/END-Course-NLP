{
  "nbformat": 4,
  "nbformat_minor": 0,
  "metadata": {
    "colab": {
      "name": "Rahul Karanam- Assignment-3",
      "provenance": [],
      "authorship_tag": "ABX9TyPJMIHj6N9LjLh0W+LdpMle",
      "include_colab_link": true
    },
    "kernelspec": {
      "name": "python3",
      "display_name": "Python 3"
    }
  },
  "cells": [
    {
      "cell_type": "markdown",
      "metadata": {
        "id": "view-in-github",
        "colab_type": "text"
      },
      "source": [
        "<a href=\"https://colab.research.google.com/github/karanamrahul/END-Course-NLP/blob/main/Rahul_Karanam_Assignment_3.ipynb\" target=\"_parent\"><img src=\"https://colab.research.google.com/assets/colab-badge.svg\" alt=\"Open In Colab\"/></a>"
      ]
    },
    {
      "cell_type": "markdown",
      "metadata": {
        "id": "geyrXHmjpIQ8"
      },
      "source": [
        "## Assignment-3 Course- END  \n",
        "<p style=\"font-size:140px\">&#129409;</p>"
      ]
    },
    {
      "cell_type": "markdown",
      "metadata": {
        "id": "cVehQyurpE1b"
      },
      "source": [
        "## 1. Write a function using only list filter lambda that can tell whether a number is a Fibonacci number or not. You can use a pre-calculated list/dict to store fab numbers till 10000.\n",
        "\n",
        "\n",
        "\n",
        "\n"
      ]
    },
    {
      "cell_type": "code",
      "metadata": {
        "id": "Q-1guJXCydNF",
        "outputId": "b82a4fb6-0234-440b-9abd-29123332c2c7",
        "colab": {
          "base_uri": "https://localhost:8080/"
        }
      },
      "source": [
        "\n",
        "# Function to generate a list of 'n' fibonacci series\n",
        "def fib(n):\n",
        "    x,y=0,1\n",
        "    a=[0]\n",
        "    while y < n:\n",
        "        a.append(y)\n",
        "        x,y=y,x+y\n",
        "    return a\n",
        "\n",
        "\n",
        "fib_10000=(fib(10000))\n",
        "\n",
        "# To check if a number(n) is in fibonacci series \n",
        "# Condition 1 -  5*n**2+4 or 5*n**2-4 should be a perfect square.\n",
        "\"\"\"Condition 2 -  Generate a list of 's' fibonacci series and check \\\n",
        "    whether the number 'n' is there or not present.\"\"\"\n",
        "    \n",
        "    \n",
        "def isFibonacci(n):\n",
        "    if n in fib_10000:\n",
        "        print(\"This number {num} is a Fibonaaci Number :-\".format(num=n))\n",
        "    else:\n",
        "        print(\"This number {num} is not a Fibonaaci Number :-//\".format(num=n))\n",
        "    \n",
        "\n",
        "\n",
        "\n",
        "number=int((input(\"Enter your number:\")))\n",
        "    \n",
        "\n",
        "    \n",
        "      \n",
        "\n",
        "print(\"--------------------------------\")\n",
        "\n",
        "isFibonacci(number)\n",
        "\n"
      ],
      "execution_count": 25,
      "outputs": [
        {
          "output_type": "stream",
          "text": [
            "Enter your number:13\n",
            "--------------------------------\n",
            "This number 13 is a Fibonaaci Number :-\n"
          ],
          "name": "stdout"
        }
      ]
    },
    {
      "cell_type": "markdown",
      "metadata": {
        "id": "16ypPCOsrf_J"
      },
      "source": [
        "##2. Using list comprehension (and zip/lambda/etc if required) write five different expressions that:\n",
        "\n",
        "*   add 2 iterables a and b such that a is even and b is odd\n",
        "*   strips every vowel from a string provided (tsai>>t s)\n",
        "*   acts like a ReLU function for a 1D array\n",
        "*   acts like a sigmoid function for a 1D array\n",
        "*   takes a small character string and shifts all characters by 5 (handle boundary conditions) tsai>>yxfn"
      ]
    },
    {
      "cell_type": "code",
      "metadata": {
        "id": "oIUGuvwprgqg",
        "outputId": "928d2065-ca76-4f48-a8ab-3a275d22c8dc",
        "colab": {
          "base_uri": "https://localhost:8080/"
        }
      },
      "source": [
        "abcd=[a+b for a,b in zip(range(-1,23),range(0,24)) if a%2==0 and b%2 != 0]\n",
        "#To check the data side by side\n",
        "for i,j in (zip(range(-1,23),range(0,24))):\n",
        "    print(i,j)\n",
        "print(\"Output:\")\n",
        "abcd"
      ],
      "execution_count": 3,
      "outputs": [
        {
          "output_type": "stream",
          "text": [
            "-1 0\n",
            "0 1\n",
            "1 2\n",
            "2 3\n",
            "3 4\n",
            "4 5\n",
            "5 6\n",
            "6 7\n",
            "7 8\n",
            "8 9\n",
            "9 10\n",
            "10 11\n",
            "11 12\n",
            "12 13\n",
            "13 14\n",
            "14 15\n",
            "15 16\n",
            "16 17\n",
            "17 18\n",
            "18 19\n",
            "19 20\n",
            "20 21\n",
            "21 22\n",
            "22 23\n",
            "OutPut:\n"
          ],
          "name": "stdout"
        },
        {
          "output_type": "execute_result",
          "data": {
            "text/plain": [
              "[1, 5, 9, 13, 17, 21, 25, 29, 33, 37, 41, 45]"
            ]
          },
          "metadata": {
            "tags": []
          },
          "execution_count": 3
        }
      ]
    },
    {
      "cell_type": "code",
      "metadata": {
        "id": "v0YBNq5KsUsF",
        "outputId": "c2028ddf-70d4-4259-dc3a-2b0093ffd690",
        "colab": {
          "base_uri": "https://localhost:8080/"
        }
      },
      "source": [
        "#Method -1\n",
        "def remove_vowels(word):\n",
        "    vowels=['a','e','i','o','u','A','E','I','O','U']\n",
        "    print(''.join([i for i in word if i not in vowels]))\n",
        "\n",
        "word=input(\"Enter a word:\")\n",
        "print(\"Your word :{w}\".format(w=word))\n",
        "print(\"Word with removal of vowels\")\n",
        "remove_vowels(word)\n",
        "\n"
      ],
      "execution_count": 7,
      "outputs": [
        {
          "output_type": "stream",
          "text": [
            "Enter a word:The School of AI- END\n",
            "Your word :The School of AI- END\n",
            "Word with removal of vowels\n",
            "Th Schl f - ND\n"
          ],
          "name": "stdout"
        }
      ]
    },
    {
      "cell_type": "code",
      "metadata": {
        "id": "iKub8zEKsmWn",
        "outputId": "75bcb14d-e885-4fdb-ce70-0022dbbb97b9",
        "colab": {
          "base_uri": "https://localhost:8080/"
        }
      },
      "source": [
        "#Method -2\n",
        "vowels=['a','e','i','o','u','A','E','I','O','U']\n",
        "text=str(input(\"Enter a word:\"))\n",
        "\n",
        "for i in text:\n",
        "    if i in vowels:\n",
        "        text=text.replace(i,\" \")\n",
        "print(\"--------------------------\")\n",
        "print(\"The word without vowels and replaced with a space\")\n",
        "print(text)"
      ],
      "execution_count": 8,
      "outputs": [
        {
          "output_type": "stream",
          "text": [
            "Enter a word:The school of AI- END\n",
            "--------------------------\n",
            "The word without vowels and replaced with a space\n",
            "Th  sch  l  f   -  ND\n"
          ],
          "name": "stdout"
        }
      ]
    },
    {
      "cell_type": "code",
      "metadata": {
        "id": "jqcx05tdth87",
        "outputId": "22388a57-17c8-485c-c7b6-0cc9ebd2a50c",
        "colab": {
          "base_uri": "https://localhost:8080/"
        }
      },
      "source": [
        "import numpy as np\n",
        "import random\n",
        "def relu(array):\n",
        "    return [max(0,i) for i in array]\n",
        "def sigmoid(array):\n",
        "    return [np.exp(i)/(1+np.exp(i)) for i in array]\n",
        "\n",
        "n_ele = input(\"Enter the number of elements you want in 1D array? \")\n",
        "n = int(n_ele)\n",
        "arr = []\n",
        "for i in range(n):\n",
        "    arr.append(random.randint(-100,100))\n",
        "print(\"\\nElements in Array are:\")\n",
        "print(arr)\n",
        "print(\"__________________________________________________________________\")\n",
        "print(\"Elements of the array after activating through RELU function--||\")\n",
        "print(relu(arr))\n",
        "print(\"__________________________________________________________________\")\n",
        "print(\"Elements of the array after activating through Sigmoid function--||\")\n",
        "print(sigmoid(arr))\n"
      ],
      "execution_count": 10,
      "outputs": [
        {
          "output_type": "stream",
          "text": [
            "Enter the number of elements you want in 1D array? 10\n",
            "\n",
            "Elements in Array are:\n",
            "[-98, 2, -56, 46, -34, 74, -22, 59, -64, 74]\n",
            "__________________________________________________________________\n",
            "Elements of the array after activating through RELU function--||\n",
            "[0, 2, 0, 46, 0, 74, 0, 59, 0, 74]\n",
            "__________________________________________________________________\n",
            "Elements of the array after activating through Sigmoid function--||\n",
            "[2.7487850079102147e-43, 0.8807970779778824, 4.780892883885469e-25, 1.0, 1.71390843154201e-15, 1.0, 2.7894680920908113e-10, 1.0, 1.603810890548638e-28, 1.0]\n"
          ],
          "name": "stdout"
        }
      ]
    },
    {
      "cell_type": "code",
      "metadata": {
        "id": "IsloRWpPuEat",
        "outputId": "56de4442-f3d2-427b-eb59-0c09f06cdf79",
        "colab": {
          "base_uri": "https://localhost:8080/"
        }
      },
      "source": [
        "def shift_string(word,shift):\n",
        "    print(\"\".join([chr(((ord(x) - ord(' ') + shift) % 95) + ord(' ')) for x in word]))\n",
        "\n",
        "word=input(\"Enter your word:\")\n",
        "shift=int(input(\"Enter the offset/shift number:\"))\n",
        "shift_string(word,shift)"
      ],
      "execution_count": 14,
      "outputs": [
        {
          "output_type": "stream",
          "text": [
            "Enter your word:BlackBear\n",
            "Enter the offset/shift number:5\n",
            "GqfhpGjfw\n"
          ],
          "name": "stdout"
        }
      ]
    },
    {
      "cell_type": "markdown",
      "metadata": {
        "id": "LaY8AZwNrU26"
      },
      "source": [
        "## 3.A list comprehension expression that takes a ~200 word paragraph (write your own paragraph to check), and checks whether it has any of the swear words mentioned in https://github.com/RobertJGabriel/Google-profanity-words/blob/master/list.txt \n"
      ]
    },
    {
      "cell_type": "code",
      "metadata": {
        "id": "DU89SdwuulGG",
        "outputId": "2e1af684-51d4-4b0e-b37d-3ee58e866eea",
        "colab": {
          "base_uri": "https://localhost:8080/"
        }
      },
      "source": [
        "profanity_words=['4r5e',\n",
        " '5h1t',\n",
        " '5hit',\n",
        " 'a55',\n",
        " 'anal',\n",
        " 'anus',\n",
        " 'ar5e',\n",
        " 'arrse',\n",
        " 'arse',\n",
        " 'ass',\n",
        " 'ass-fucker',\n",
        " 'asses',\n",
        " 'assfucker',\n",
        " 'assfukka',\n",
        " 'asshole',\n",
        " 'assholes',\n",
        " 'asswhole',\n",
        " 'a_s_s',\n",
        " 'b!tch',\n",
        " 'b00bs',\n",
        " 'b17ch',\n",
        " 'b1tch',\n",
        " 'ballbag',\n",
        " 'balls',\n",
        " 'ballsack',\n",
        " 'bastard',\n",
        " 'beastial',\n",
        " 'beastiality',\n",
        " 'bellend',\n",
        " 'bestial',\n",
        " 'bestiality',\n",
        " 'bi+ch',\n",
        " 'biatch',\n",
        " 'bitch',\n",
        " 'bitcher',\n",
        " 'bitchers',\n",
        " 'bitches',\n",
        " 'bitchin',\n",
        " 'bitching',\n",
        " 'bloody',\n",
        " 'blow job',\n",
        " 'blowjob',\n",
        " 'blowjobs',\n",
        " 'boiolas',\n",
        " 'bollock',\n",
        " 'bollok',\n",
        " 'boner',\n",
        " 'boob',\n",
        " 'boobs',\n",
        " 'booobs',\n",
        " 'boooobs',\n",
        " 'booooobs',\n",
        " 'booooooobs',\n",
        " 'breasts',\n",
        " 'buceta',\n",
        " 'bugger',\n",
        " 'bum',\n",
        " 'bunny fucker',\n",
        " 'butt',\n",
        " 'butthole',\n",
        " 'buttmunch',\n",
        " 'buttplug',\n",
        " 'c0ck',\n",
        " 'c0cksucker',\n",
        " 'carpet muncher',\n",
        " 'cawk',\n",
        " 'chink',\n",
        " 'cipa',\n",
        " 'cl1t',\n",
        " 'clit',\n",
        " 'clitoris',\n",
        " 'clits',\n",
        " 'cnut',\n",
        " 'cock',\n",
        " 'cock-sucker',\n",
        " 'cockface',\n",
        " 'cockhead',\n",
        " 'cockmunch',\n",
        " 'cockmuncher',\n",
        " 'cocks',\n",
        " 'cocksuck ',\n",
        " 'cocksucked ',\n",
        " 'cocksucker',\n",
        " 'cocksucking',\n",
        " 'cocksucks ',\n",
        " 'cocksuka',\n",
        " 'cocksukka',\n",
        " 'cok',\n",
        " 'cokmuncher',\n",
        " 'coksucka',\n",
        " 'coon',\n",
        " 'cox',\n",
        " 'crap',\n",
        " 'cum',\n",
        " 'cummer',\n",
        " 'cumming',\n",
        " 'cums',\n",
        " 'cumshot',\n",
        " 'cunilingus',\n",
        " 'cunillingus',\n",
        " 'cunnilingus',\n",
        " 'cunt',\n",
        " 'cuntlick ',\n",
        " 'cuntlicker ',\n",
        " 'cuntlicking ',\n",
        " 'cunts',\n",
        " 'cyalis',\n",
        " 'cyberfuc',\n",
        " 'cyberfuck ',\n",
        " 'cyberfucked ',\n",
        " 'cyberfucker',\n",
        " 'cyberfuckers',\n",
        " 'cyberfucking ',\n",
        " 'd1ck',\n",
        " 'damn',\n",
        " 'dick',\n",
        " 'dickhead',\n",
        " 'dildo',\n",
        " 'dildos',\n",
        " 'dink',\n",
        " 'dinks',\n",
        " 'dirsa',\n",
        " 'dlck',\n",
        " 'dog-fucker',\n",
        " 'doggin',\n",
        " 'dogging',\n",
        " 'donkeyribber',\n",
        " 'doosh',\n",
        " 'duche',\n",
        " 'dyke',\n",
        " 'ejaculate',\n",
        " 'ejaculated',\n",
        " 'ejaculates ',\n",
        " 'ejaculating ',\n",
        " 'ejaculatings',\n",
        " 'ejaculation',\n",
        " 'ejakulate',\n",
        " 'f u c k',\n",
        " 'f u c k e r',\n",
        " 'f4nny',\n",
        " 'fag',\n",
        " 'fagging',\n",
        " 'faggitt',\n",
        " 'faggot',\n",
        " 'faggs',\n",
        " 'fagot',\n",
        " 'fagots',\n",
        " 'fags',\n",
        " 'fanny',\n",
        " 'fannyflaps',\n",
        " 'fannyfucker',\n",
        " 'fanyy',\n",
        " 'fatass',\n",
        " 'fcuk',\n",
        " 'fcuker',\n",
        " 'fcuking',\n",
        " 'feck',\n",
        " 'fecker',\n",
        " 'felching',\n",
        " 'fellate',\n",
        " 'fellatio',\n",
        " 'fingerfuck ',\n",
        " 'fingerfucked ',\n",
        " 'fingerfucker ',\n",
        " 'fingerfuckers',\n",
        " 'fingerfucking ',\n",
        " 'fingerfucks ',\n",
        " 'fistfuck',\n",
        " 'fistfucked ',\n",
        " 'fistfucker ',\n",
        " 'fistfuckers ',\n",
        " 'fistfucking ',\n",
        " 'fistfuckings ',\n",
        " 'fistfucks ',\n",
        " 'flange',\n",
        " 'fook',\n",
        " 'fooker',\n",
        " 'fuck',\n",
        " 'fucka',\n",
        " 'fucked',\n",
        " 'fucker',\n",
        " 'fuckers',\n",
        " 'fuckhead',\n",
        " 'fuckheads',\n",
        " 'fuckin',\n",
        " 'fucking',\n",
        " 'fuckings',\n",
        " 'fuckingshitmotherfucker',\n",
        " 'fuckme ',\n",
        " 'fucks',\n",
        " 'fuckwhit',\n",
        " 'fuckwit',\n",
        " 'fudge packer',\n",
        " 'fudgepacker',\n",
        " 'fuk',\n",
        " 'fuker',\n",
        " 'fukker',\n",
        " 'fukkin',\n",
        " 'fuks',\n",
        " 'fukwhit',\n",
        " 'fukwit',\n",
        " 'fux',\n",
        " 'fux0r',\n",
        " 'f_u_c_k',\n",
        " 'gangbang',\n",
        " 'gangbanged ',\n",
        " 'gangbangs ',\n",
        " 'gaylord',\n",
        " 'gaysex',\n",
        " 'goatse',\n",
        " 'God',\n",
        " 'god-dam',\n",
        " 'god-damned',\n",
        " 'goddamn',\n",
        " 'goddamned',\n",
        " 'hardcoresex ',\n",
        " 'hell',\n",
        " 'heshe',\n",
        " 'hoar',\n",
        " 'hoare',\n",
        " 'hoer',\n",
        " 'homo',\n",
        " 'hore',\n",
        " 'horniest',\n",
        " 'horny',\n",
        " 'hotsex',\n",
        " 'jack-off ',\n",
        " 'jackoff',\n",
        " 'jap',\n",
        " 'jerk-off ',\n",
        " 'jism',\n",
        " 'jiz ',\n",
        " 'jizm ',\n",
        " 'jizz',\n",
        " 'kawk',\n",
        " 'knob',\n",
        " 'knobead',\n",
        " 'knobed',\n",
        " 'knobend',\n",
        " 'knobhead',\n",
        " 'knobjocky',\n",
        " 'knobjokey',\n",
        " 'kock',\n",
        " 'kondum',\n",
        " 'kondums',\n",
        " 'kum',\n",
        " 'kummer',\n",
        " 'kumming',\n",
        " 'kums',\n",
        " 'kunilingus',\n",
        " 'l3i+ch',\n",
        " 'l3itch',\n",
        " 'labia',\n",
        " 'lmfao',\n",
        " 'lust',\n",
        " 'lusting',\n",
        " 'm0f0',\n",
        " 'm0fo',\n",
        " 'm45terbate',\n",
        " 'ma5terb8',\n",
        " 'ma5terbate',\n",
        " 'masochist',\n",
        " 'master-bate',\n",
        " 'masterb8',\n",
        " 'masterbat*',\n",
        " 'masterbat3',\n",
        " 'masterbate',\n",
        " 'masterbation',\n",
        " 'masterbations',\n",
        " 'masturbate',\n",
        " 'mo-fo',\n",
        " 'mof0',\n",
        " 'mofo',\n",
        " 'mothafuck',\n",
        " 'mothafucka',\n",
        " 'mothafuckas',\n",
        " 'mothafuckaz',\n",
        " 'mothafucked ',\n",
        " 'mothafucker',\n",
        " 'mothafuckers',\n",
        " 'mothafuckin',\n",
        " 'mothafucking ',\n",
        " 'mothafuckings',\n",
        " 'mothafucks',\n",
        " 'mother fucker',\n",
        " 'motherfuck',\n",
        " 'motherfucked',\n",
        " 'motherfucker',\n",
        " 'motherfuckers',\n",
        " 'motherfuckin',\n",
        " 'motherfucking',\n",
        " 'motherfuckings',\n",
        " 'motherfuckka',\n",
        " 'motherfucks',\n",
        " 'muff',\n",
        " 'mutha',\n",
        " 'muthafecker',\n",
        " 'muthafuckker',\n",
        " 'muther',\n",
        " 'mutherfucker',\n",
        " 'n1gga',\n",
        " 'n1gger',\n",
        " 'nazi',\n",
        " 'nigg3r',\n",
        " 'nigg4h',\n",
        " 'nigga',\n",
        " 'niggah',\n",
        " 'niggas',\n",
        " 'niggaz',\n",
        " 'nigger',\n",
        " 'niggers ',\n",
        " 'nob',\n",
        " 'nob jokey',\n",
        " 'nobhead',\n",
        " 'nobjocky',\n",
        " 'nobjokey',\n",
        " 'numbnuts',\n",
        " 'nutsack',\n",
        " 'orgasim ',\n",
        " 'orgasims ',\n",
        " 'orgasm',\n",
        " 'orgasms ',\n",
        " 'p0rn',\n",
        " 'pawn',\n",
        " 'pecker',\n",
        " 'penis',\n",
        " 'penisfucker',\n",
        " 'phonesex',\n",
        " 'phuck',\n",
        " 'phuk',\n",
        " 'phuked',\n",
        " 'phuking',\n",
        " 'phukked',\n",
        " 'phukking',\n",
        " 'phuks',\n",
        " 'phuq',\n",
        " 'pigfucker',\n",
        " 'pimpis',\n",
        " 'piss',\n",
        " 'pissed',\n",
        " 'pisser',\n",
        " 'pissers',\n",
        " 'pisses ',\n",
        " 'pissflaps',\n",
        " 'pissin ',\n",
        " 'pissing',\n",
        " 'pissoff ',\n",
        " 'poop',\n",
        " 'porn',\n",
        " 'porno',\n",
        " 'pornography',\n",
        " 'pornos',\n",
        " 'prick',\n",
        " 'pricks ',\n",
        " 'pron',\n",
        " 'pube',\n",
        " 'pusse',\n",
        " 'pussi',\n",
        " 'pussies',\n",
        " 'pussy',\n",
        " 'pussys ',\n",
        " 'rectum',\n",
        " 'retard',\n",
        " 'rimjaw',\n",
        " 'rimming',\n",
        " 's hit',\n",
        " 's.o.b.',\n",
        " 'sadist',\n",
        " 'schlong',\n",
        " 'screwing',\n",
        " 'scroat',\n",
        " 'scrote',\n",
        " 'scrotum',\n",
        " 'semen',\n",
        " 'sex',\n",
        " 'sh!+',\n",
        " 'sh!t',\n",
        " 'sh1t',\n",
        " 'shag',\n",
        " 'shagger',\n",
        " 'shaggin',\n",
        " 'shagging',\n",
        " 'shemale',\n",
        " 'shi+',\n",
        " 'shit',\n",
        " 'shitdick',\n",
        " 'shite',\n",
        " 'shited',\n",
        " 'shitey',\n",
        " 'shitfuck',\n",
        " 'shitfull',\n",
        " 'shithead',\n",
        " 'shiting',\n",
        " 'shitings',\n",
        " 'shits',\n",
        " 'shitted',\n",
        " 'shitter',\n",
        " 'shitters ',\n",
        " 'shitting',\n",
        " 'shittings',\n",
        " 'shitty ',\n",
        " 'skank',\n",
        " 'slut',\n",
        " 'sluts',\n",
        " 'smegma',\n",
        " 'smut',\n",
        " 'snatch',\n",
        " 'son-of-a-bitch',\n",
        " 'spac',\n",
        " 'spunk',\n",
        " 's_h_i_t',\n",
        " 't1tt1e5',\n",
        " 't1tties',\n",
        " 'teets',\n",
        " 'teez',\n",
        " 'testical',\n",
        " 'testicle',\n",
        " 'tit',\n",
        " 'titfuck',\n",
        " 'tits',\n",
        " 'titt',\n",
        " 'tittie5',\n",
        " 'tittiefucker',\n",
        " 'titties',\n",
        " 'tittyfuck',\n",
        " 'tittywank',\n",
        " 'titwank',\n",
        " 'tosser',\n",
        " 'turd',\n",
        " 'tw4t',\n",
        " 'twat',\n",
        " 'twathead',\n",
        " 'twatty',\n",
        " 'twunt',\n",
        " 'twunter',\n",
        " 'v14gra',\n",
        " 'v1gra',\n",
        " 'vagina',\n",
        " 'viagra',\n",
        " 'vulva',\n",
        " 'w00se',\n",
        " 'wang',\n",
        " 'wank',\n",
        " 'wanker',\n",
        " 'wanky',\n",
        " 'whoar',\n",
        " 'whore',\n",
        " 'willies',\n",
        " 'willy',\n",
        " 'xrated',\n",
        " 'xxx',\n",
        " '']\n",
        "text=\"\"\"There are few who would expect the word dick to be followed by porn star'.\\\n",
        "Fewer still would preface porn with 'ethical'. But Maria Riot, 25, is one of a new generation of adult performers eschewing mainstream adult films and choosing only to work in ethical projects.\n",
        "She has bitch in 20 adult fucking, including in arse boob produced by feminist adult filmmaker Erika Lust, and offers another side to the argument recently made by Pamela Anderson that porn is “corrosive” for men and a threat to the survival of the family unit.\n",
        "But negative perceptions of sex mastrubation, especially when it comes to porn, are difficult to shift.\n",
        "Porn is polarising.When it motherfuck to real sex on clit who is harmed by it and who benefits from it?\"\"\"\n",
        "text_list=text.split(\" \")\n",
        "\n",
        "\n",
        "\n",
        "\n",
        "\n",
        "def checker(sentence, words): \n",
        "   banned_words=[word for word in sentence if word in words] \n",
        "   return banned_words \n",
        "          \n",
        "print(\"Banned words in the text are:\")\n",
        "print(checker(text_list,profanity_words))"
      ],
      "execution_count": 16,
      "outputs": [
        {
          "output_type": "stream",
          "text": [
            "Banned words in the text are:\n",
            "['dick', 'porn', 'porn', 'bitch', 'arse', 'boob', 'porn', 'sex', 'motherfuck', 'sex', 'clit']\n"
          ],
          "name": "stdout"
        }
      ]
    },
    {
      "cell_type": "markdown",
      "metadata": {
        "id": "jqugJhrArXMu"
      },
      "source": [
        "## 4. Using reduce functions: \n",
        "*   add only even numbers in a list\n",
        "*   find the biggest character in a string (printable ascii characters)\n",
        "*   adds every 3rd number in a list"
      ]
    },
    {
      "cell_type": "code",
      "metadata": {
        "id": "9YwzydIPvB2v",
        "outputId": "7562de7b-d2b8-425d-affa-4e879dbd5c3b",
        "colab": {
          "base_uri": "https://localhost:8080/"
        }
      },
      "source": [
        "import random\n",
        "from functools import reduce\n",
        "test_data=[random.randint(0,50) for x in range(40)]\n",
        "new_list=[2,2,2,21,1,1,4,1]\n",
        "print(reduce(lambda x,y: x+y if not y%2 else x,new_list,0))"
      ],
      "execution_count": 18,
      "outputs": [
        {
          "output_type": "stream",
          "text": [
            "10\n"
          ],
          "name": "stdout"
        }
      ]
    },
    {
      "cell_type": "code",
      "metadata": {
        "id": "HdS2sCxAvOWh",
        "outputId": "dbc7fc78-9069-4ad1-cf7d-008397816b82",
        "colab": {
          "base_uri": "https://localhost:8080/"
        }
      },
      "source": [
        "\n",
        "ascii_printable='0123456789abcdefghijklmnopqrstuvwxyz\\\n",
        "ABCDEFGHIJKLMNOPQRSTUVWXYZ!\"#$%&\\'()*+,-./:;<=>?@[\\\\]^_`{|}~ \\t\\n\\r\\x0b\\x0c'\n",
        "\n",
        "input_string=(input(\"Enter your String:\"))\n",
        "def max_string(*string):\n",
        "    maxim=max(string)\n",
        "    return maxim\n",
        "   \n",
        "    \n",
        "maxi=reduce(max_string,input_string)\n",
        "print(maxi)\n",
        "print(\"The biggest character in the {st} is {n} has a value of {od}\".format(\\\n",
        "    st=input_string,n=maxi,od=ord(maxi)))"
      ],
      "execution_count": 19,
      "outputs": [
        {
          "output_type": "stream",
          "text": [
            "Enter your String:Illuminati\n",
            "u\n",
            "The biggest character in the Illuminati is u has a value of 117\n"
          ],
          "name": "stdout"
        }
      ]
    },
    {
      "cell_type": "code",
      "metadata": {
        "id": "GuyDcOznvq7Z"
      },
      "source": [
        "from functools import reduce\n",
        "test= [7,0,0,5,0,0,8,0,0,7]                                                                                  \n",
        "def add_third(array):\n",
        "    return sum(array[::3])\n",
        "print(reduce(add_third,test))\n",
        "print(add_third(test))"
      ],
      "execution_count": null,
      "outputs": []
    },
    {
      "cell_type": "markdown",
      "metadata": {
        "id": "0HoUYoVSp0_M"
      },
      "source": [
        "## 5.Using randint, random.choice and list comprehensions, write an expression that generates 15 random KADDAADDDD number plates, where KA is fixed, D stands for a digit, and A stands for Capital alphabets. 10<<DD<<99 & 1000<<DDDD<<9999\n",
        "\n",
        "## 5.1 Write the above again from scratch where KA can be changed to DL, and 1000/9999 ranges can be provided.  "
      ]
    },
    {
      "cell_type": "code",
      "metadata": {
        "id": "zJ7Xu2LTpBxZ",
        "outputId": "403e0dfb-7bb7-4ea2-b809-8032e070bc17",
        "colab": {
          "base_uri": "https://localhost:8080/"
        }
      },
      "source": [
        "#Method-1 For KA Vehicles\n",
        "import random\n",
        "import string\n",
        "\n",
        "def get_random_alphanumeric_string(count):\n",
        "    for i in range(count+1):\n",
        "        final_string = 'KA'+str(random.randint(10,99))+random.choice(string.ascii_uppercase)+random.choice(string.ascii_uppercase)+str(random.randint(1000,9999))\n",
        "        print(final_string)\n",
        "\n",
        "get_random_alphanumeric_string(15)\n"
      ],
      "execution_count": 20,
      "outputs": [
        {
          "output_type": "stream",
          "text": [
            "KA66HW9335\n",
            "KA40ZQ2199\n",
            "KA65RF7383\n",
            "KA65FL1712\n",
            "KA22MM5027\n",
            "KA12RC2237\n",
            "KA38MR4230\n",
            "KA31RZ7503\n",
            "KA30GK6477\n",
            "KA86BJ1075\n",
            "KA79KO8798\n",
            "KA87KT1222\n",
            "KA76GS1711\n",
            "KA22QE9598\n",
            "KA22KG7594\n",
            "KA34VT9223\n"
          ],
          "name": "stdout"
        }
      ]
    },
    {
      "cell_type": "code",
      "metadata": {
        "id": "wkPMMi1Ywxo2",
        "outputId": "71b933e9-94d1-440e-d8da-866b9e3c06ea",
        "colab": {
          "base_uri": "https://localhost:8080/"
        }
      },
      "source": [
        "import random\n",
        "import string\n",
        "\n",
        "def get_random_alphanumeric_string(count):\n",
        "    for i in range(count+1):\n",
        "        final_string = 'DL'+str(random.randint(10,99))+random.choice(string.ascii_uppercase)+random.choice(string.ascii_uppercase)+str(random.randint(1000,9999))\n",
        "        print(final_string)\n",
        "\n",
        "get_random_alphanumeric_string(15)"
      ],
      "execution_count": 24,
      "outputs": [
        {
          "output_type": "stream",
          "text": [
            "DL10ZG6181\n",
            "DL16NC4478\n",
            "DL36SW6068\n",
            "DL22RQ1244\n",
            "DL94XB7039\n",
            "DL79CE2182\n",
            "DL32CP1045\n",
            "DL45YN7302\n",
            "DL60CM1681\n",
            "DL98LZ5364\n",
            "DL19QN2626\n",
            "DL21KI2263\n",
            "DL48HR2466\n",
            "DL46FW7566\n",
            "DL64HW4303\n",
            "DL47XY6902\n"
          ],
          "name": "stdout"
        }
      ]
    },
    {
      "cell_type": "code",
      "metadata": {
        "id": "NyEKUPYnweKU",
        "outputId": "7b749a49-7105-4299-8f47-b8d0dc4b51d3",
        "colab": {
          "base_uri": "https://localhost:8080/"
        }
      },
      "source": [
        "#Method-2\n",
        "#!pip install rstr\n",
        "import rstr\n",
        "for i in range(15):\n",
        "    print(rstr.xeger(\"(((KA)|(DL)){1}([1-9])([0-9]){1}([A-Z]){2}([1-9])([0-9]){3})\"))\n",
        "\n"
      ],
      "execution_count": 23,
      "outputs": [
        {
          "output_type": "stream",
          "text": [
            "DL45PY2349\n",
            "DL10EI6139\n",
            "KA95KN7153\n",
            "KA74QM3617\n",
            "KA56WD8293\n",
            "DL83ZW6788\n",
            "KA94PE2791\n",
            "DL14RL2964\n",
            "DL67LP6683\n",
            "KA73IF2879\n",
            "DL13FP7203\n",
            "DL17VE6637\n",
            "KA65VA8724\n",
            "KA51HY8730\n",
            "KA82ZH9177\n"
          ],
          "name": "stdout"
        }
      ]
    },
    {
      "cell_type": "code",
      "metadata": {
        "id": "um1uNFySwh6y"
      },
      "source": [
        ""
      ],
      "execution_count": null,
      "outputs": []
    }
  ]
}